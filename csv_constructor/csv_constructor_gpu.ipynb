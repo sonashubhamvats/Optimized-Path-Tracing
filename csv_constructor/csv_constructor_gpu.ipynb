{
  "nbformat": 4,
  "nbformat_minor": 0,
  "metadata": {
    "colab": {
      "provenance": []
    },
    "kernelspec": {
      "name": "python3",
      "display_name": "Python 3"
    },
    "language_info": {
      "name": "python"
    }
  },
  "cells": [
    {
      "cell_type": "code",
      "execution_count": 36,
      "metadata": {
        "colab": {
          "base_uri": "https://localhost:8080/",
          "height": 73
        },
        "id": "t2Ar9U0t0vk-",
        "outputId": "b57b4eea-8270-44b0-96ec-4dd63a77c501"
      },
      "outputs": [
        {
          "output_type": "display_data",
          "data": {
            "text/plain": [
              "<IPython.core.display.HTML object>"
            ],
            "text/html": [
              "\n",
              "     <input type=\"file\" id=\"files-62cea959-3023-4442-9f34-5011c0ff5785\" name=\"files[]\" multiple disabled\n",
              "        style=\"border:none\" />\n",
              "     <output id=\"result-62cea959-3023-4442-9f34-5011c0ff5785\">\n",
              "      Upload widget is only available when the cell has been executed in the\n",
              "      current browser session. Please rerun this cell to enable.\n",
              "      </output>\n",
              "      <script>// Copyright 2017 Google LLC\n",
              "//\n",
              "// Licensed under the Apache License, Version 2.0 (the \"License\");\n",
              "// you may not use this file except in compliance with the License.\n",
              "// You may obtain a copy of the License at\n",
              "//\n",
              "//      http://www.apache.org/licenses/LICENSE-2.0\n",
              "//\n",
              "// Unless required by applicable law or agreed to in writing, software\n",
              "// distributed under the License is distributed on an \"AS IS\" BASIS,\n",
              "// WITHOUT WARRANTIES OR CONDITIONS OF ANY KIND, either express or implied.\n",
              "// See the License for the specific language governing permissions and\n",
              "// limitations under the License.\n",
              "\n",
              "/**\n",
              " * @fileoverview Helpers for google.colab Python module.\n",
              " */\n",
              "(function(scope) {\n",
              "function span(text, styleAttributes = {}) {\n",
              "  const element = document.createElement('span');\n",
              "  element.textContent = text;\n",
              "  for (const key of Object.keys(styleAttributes)) {\n",
              "    element.style[key] = styleAttributes[key];\n",
              "  }\n",
              "  return element;\n",
              "}\n",
              "\n",
              "// Max number of bytes which will be uploaded at a time.\n",
              "const MAX_PAYLOAD_SIZE = 100 * 1024;\n",
              "\n",
              "function _uploadFiles(inputId, outputId) {\n",
              "  const steps = uploadFilesStep(inputId, outputId);\n",
              "  const outputElement = document.getElementById(outputId);\n",
              "  // Cache steps on the outputElement to make it available for the next call\n",
              "  // to uploadFilesContinue from Python.\n",
              "  outputElement.steps = steps;\n",
              "\n",
              "  return _uploadFilesContinue(outputId);\n",
              "}\n",
              "\n",
              "// This is roughly an async generator (not supported in the browser yet),\n",
              "// where there are multiple asynchronous steps and the Python side is going\n",
              "// to poll for completion of each step.\n",
              "// This uses a Promise to block the python side on completion of each step,\n",
              "// then passes the result of the previous step as the input to the next step.\n",
              "function _uploadFilesContinue(outputId) {\n",
              "  const outputElement = document.getElementById(outputId);\n",
              "  const steps = outputElement.steps;\n",
              "\n",
              "  const next = steps.next(outputElement.lastPromiseValue);\n",
              "  return Promise.resolve(next.value.promise).then((value) => {\n",
              "    // Cache the last promise value to make it available to the next\n",
              "    // step of the generator.\n",
              "    outputElement.lastPromiseValue = value;\n",
              "    return next.value.response;\n",
              "  });\n",
              "}\n",
              "\n",
              "/**\n",
              " * Generator function which is called between each async step of the upload\n",
              " * process.\n",
              " * @param {string} inputId Element ID of the input file picker element.\n",
              " * @param {string} outputId Element ID of the output display.\n",
              " * @return {!Iterable<!Object>} Iterable of next steps.\n",
              " */\n",
              "function* uploadFilesStep(inputId, outputId) {\n",
              "  const inputElement = document.getElementById(inputId);\n",
              "  inputElement.disabled = false;\n",
              "\n",
              "  const outputElement = document.getElementById(outputId);\n",
              "  outputElement.innerHTML = '';\n",
              "\n",
              "  const pickedPromise = new Promise((resolve) => {\n",
              "    inputElement.addEventListener('change', (e) => {\n",
              "      resolve(e.target.files);\n",
              "    });\n",
              "  });\n",
              "\n",
              "  const cancel = document.createElement('button');\n",
              "  inputElement.parentElement.appendChild(cancel);\n",
              "  cancel.textContent = 'Cancel upload';\n",
              "  const cancelPromise = new Promise((resolve) => {\n",
              "    cancel.onclick = () => {\n",
              "      resolve(null);\n",
              "    };\n",
              "  });\n",
              "\n",
              "  // Wait for the user to pick the files.\n",
              "  const files = yield {\n",
              "    promise: Promise.race([pickedPromise, cancelPromise]),\n",
              "    response: {\n",
              "      action: 'starting',\n",
              "    }\n",
              "  };\n",
              "\n",
              "  cancel.remove();\n",
              "\n",
              "  // Disable the input element since further picks are not allowed.\n",
              "  inputElement.disabled = true;\n",
              "\n",
              "  if (!files) {\n",
              "    return {\n",
              "      response: {\n",
              "        action: 'complete',\n",
              "      }\n",
              "    };\n",
              "  }\n",
              "\n",
              "  for (const file of files) {\n",
              "    const li = document.createElement('li');\n",
              "    li.append(span(file.name, {fontWeight: 'bold'}));\n",
              "    li.append(span(\n",
              "        `(${file.type || 'n/a'}) - ${file.size} bytes, ` +\n",
              "        `last modified: ${\n",
              "            file.lastModifiedDate ? file.lastModifiedDate.toLocaleDateString() :\n",
              "                                    'n/a'} - `));\n",
              "    const percent = span('0% done');\n",
              "    li.appendChild(percent);\n",
              "\n",
              "    outputElement.appendChild(li);\n",
              "\n",
              "    const fileDataPromise = new Promise((resolve) => {\n",
              "      const reader = new FileReader();\n",
              "      reader.onload = (e) => {\n",
              "        resolve(e.target.result);\n",
              "      };\n",
              "      reader.readAsArrayBuffer(file);\n",
              "    });\n",
              "    // Wait for the data to be ready.\n",
              "    let fileData = yield {\n",
              "      promise: fileDataPromise,\n",
              "      response: {\n",
              "        action: 'continue',\n",
              "      }\n",
              "    };\n",
              "\n",
              "    // Use a chunked sending to avoid message size limits. See b/62115660.\n",
              "    let position = 0;\n",
              "    do {\n",
              "      const length = Math.min(fileData.byteLength - position, MAX_PAYLOAD_SIZE);\n",
              "      const chunk = new Uint8Array(fileData, position, length);\n",
              "      position += length;\n",
              "\n",
              "      const base64 = btoa(String.fromCharCode.apply(null, chunk));\n",
              "      yield {\n",
              "        response: {\n",
              "          action: 'append',\n",
              "          file: file.name,\n",
              "          data: base64,\n",
              "        },\n",
              "      };\n",
              "\n",
              "      let percentDone = fileData.byteLength === 0 ?\n",
              "          100 :\n",
              "          Math.round((position / fileData.byteLength) * 100);\n",
              "      percent.textContent = `${percentDone}% done`;\n",
              "\n",
              "    } while (position < fileData.byteLength);\n",
              "  }\n",
              "\n",
              "  // All done.\n",
              "  yield {\n",
              "    response: {\n",
              "      action: 'complete',\n",
              "    }\n",
              "  };\n",
              "}\n",
              "\n",
              "scope.google = scope.google || {};\n",
              "scope.google.colab = scope.google.colab || {};\n",
              "scope.google.colab._files = {\n",
              "  _uploadFiles,\n",
              "  _uploadFilesContinue,\n",
              "};\n",
              "})(self);\n",
              "</script> "
            ]
          },
          "metadata": {}
        },
        {
          "output_type": "stream",
          "name": "stdout",
          "text": [
            "Saving output.txt to output.txt\n"
          ]
        }
      ],
      "source": [
        "from google.colab import files\n",
        "\n",
        "uploaded = files.upload()\n",
        "\n",
        "file_name, file_content = list(uploaded.items())[0]\n",
        "\n",
        "with open(file_name, 'r') as file:\n",
        "    file_content = file.read()\n"
      ]
    },
    {
      "cell_type": "code",
      "source": [
        "# The input string\n",
        "input_string = file_content\n",
        "\n",
        "# Split the input string into lines\n",
        "lines = input_string.strip().split('\\n')\n",
        "\n",
        "\n",
        "\n",
        "all_the_tables = [];\n",
        "for j in range(1,22):\n",
        "  if j!=18:\n",
        "    resolutions = {\n",
        "    '512X448': [],\n",
        "    '736X640': [],\n",
        "    '1280X992': []\n",
        "    }\n",
        "    for line in lines:\n",
        "        fields = line.split()\n",
        "        if len(fields)<12:\n",
        "          break\n",
        "        option_number = int(fields[9][1:])\n",
        "        if option_number==j:\n",
        "          timing = float(fields[3])\n",
        "          resolution = '{}X{}'.format(fields[11][1:], fields[12][1:])\n",
        "          resolutions[resolution].append(timing)\n",
        "    table_here = []\n",
        "    table_here.append('No of Objects, 512X448, 736X640, 1280X992')\n",
        "\n",
        "    i=0\n",
        "    for num_objects in [10, 100, 1000, 10000]:\n",
        "        row = [num_objects]\n",
        "        for resolution in ['512X448', '736X640', '1280X992']:\n",
        "            row.append(resolutions[resolution][i])\n",
        "        i+=1\n",
        "        table_here.append(','.join(map(str, row)))\n",
        "    all_the_tables.append(table_here)\n"
      ],
      "metadata": {
        "id": "jzTrJadM5i-n"
      },
      "execution_count": 42,
      "outputs": []
    },
    {
      "cell_type": "code",
      "source": [
        "data = all_the_tables\n",
        "# Create the header for the tables\n",
        "header = ['No of Objects', '512X448', '736X640', '1280X992']\n",
        "table_final_data = []\n",
        "# Loop through each set of data and create a table\n",
        "for i, table_data in enumerate(data):\n",
        "    # Split each row by comma to get the values\n",
        "    table_data_here = []\n",
        "    rows = [row.split(',') for row in table_data]\n",
        "    # Print the header\n",
        "    table_data_here.append(header)\n",
        "    # Print the rows\n",
        "    for row in rows[1:]:\n",
        "        table_data_here.append(row)\n",
        "    table_final_data.append(table_data_here);\n"
      ],
      "metadata": {
        "id": "8sO_hGnt6q6n"
      },
      "execution_count": 43,
      "outputs": []
    },
    {
      "cell_type": "code",
      "source": [
        "print(table_final_data)\n",
        "print(len(table_final_data))"
      ],
      "metadata": {
        "colab": {
          "base_uri": "https://localhost:8080/"
        },
        "id": "N6EZ3SE0_OnR",
        "outputId": "8648fe96-e055-4d6c-ac06-5acf8dfb9f9f"
      },
      "execution_count": 44,
      "outputs": [
        {
          "output_type": "stream",
          "name": "stdout",
          "text": [
            "[[['No of Objects', '512X448', '736X640', '1280X992'], ['10', '0.014', '0.028', '0.074'], ['100', '0.018', '0.036', '0.097'], ['1000', '0.174', '0.348', '0.834'], ['10000', '8.423', '17.946', '45.359']], [['No of Objects', '512X448', '736X640', '1280X992'], ['10', '0.013', '0.027', '0.073'], ['100', '0.019', '0.039', '0.099'], ['1000', '0.17', '0.342', '0.813'], ['10000', '8.341', '17.135', '43.329']], [['No of Objects', '512X448', '736X640', '1280X992'], ['10', '0.014', '0.028', '0.075'], ['100', '0.018', '0.037', '0.095'], ['1000', '0.164', '0.328', '0.782'], ['10000', '8.374', '17.449', '44.416']], [['No of Objects', '512X448', '736X640', '1280X992'], ['10', '0.014', '0.028', '0.075'], ['100', '0.022', '0.044', '0.107'], ['1000', '0.185', '0.332', '0.793'], ['10000', '8.294', '17.299', '44.964']], [['No of Objects', '512X448', '736X640', '1280X992'], ['10', '0.013', '0.027', '0.073'], ['100', '0.015', '0.03', '0.081'], ['1000', '0.044', '0.089', '0.217'], ['10000', '1.227', '2.478', '5.866']], [['No of Objects', '512X448', '736X640', '1280X992'], ['10', '0.013', '0.027', '0.073'], ['100', '0.015', '0.032', '0.084'], ['1000', '0.044', '0.091', '0.221'], ['10000', '1.279', '2.56', '6.176']], [['No of Objects', '512X448', '736X640', '1280X992'], ['10', '0.013', '0.027', '0.073'], ['100', '0.015', '0.031', '0.082'], ['1000', '0.048', '0.111', '0.216'], ['10000', '1.24', '2.482', '5.996']], [['No of Objects', '512X448', '736X640', '1280X992'], ['10', '0.013', '0.027', '0.073'], ['100', '0.017', '0.035', '0.091'], ['1000', '0.045', '0.09', '0.221'], ['10000', '1.252', '2.506', '6.028']], [['No of Objects', '512X448', '736X640', '1280X992'], ['10', '0.014', '0.028', '0.074'], ['100', '0.018', '0.038', '0.096'], ['1000', '0.174', '0.344', '0.838'], ['10000', '13.637', '28.569', '73.47']], [['No of Objects', '512X448', '736X640', '1280X992'], ['10', '0.014', '0.028', '0.074'], ['100', '0.02', '0.041', '0.104'], ['1000', '0.163', '0.324', '0.77'], ['10000', '13.204', '27.851', '72.836']], [['No of Objects', '512X448', '736X640', '1280X992'], ['10', '0.014', '0.027', '0.074'], ['100', '0.016', '0.034', '0.09'], ['1000', '0.161', '0.322', '0.764'], ['10000', '13.901', '28.793', '76.019']], [['No of Objects', '512X448', '736X640', '1280X992'], ['10', '0.013', '0.028', '0.074'], ['100', '0.02', '0.04', '0.104'], ['1000', '0.165', '0.329', '0.778'], ['10000', '13.045', '26.816', '66.114']], [['No of Objects', '512X448', '736X640', '1280X992'], ['10', '0.013', '0.028', '0.075'], ['100', '0.022', '0.043', '0.106'], ['1000', '0.146', '0.28', '0.625'], ['10000', '7.804', '15.603', '36.851']], [['No of Objects', '512X448', '736X640', '1280X992'], ['10', '0.014', '0.028', '0.074'], ['100', '0.02', '0.039', '0.098'], ['1000', '0.21', '0.389', '0.908'], ['10000', '12.969', '26.573', '69.842']], [['No of Objects', '512X448', '736X640', '1280X992'], ['10', '0.014', '0.029', '0.077'], ['100', '0.019', '0.039', '0.101'], ['1000', '0.129', '0.26', '0.62'], ['10000', '4.813', '9.711', '23.601']], [['No of Objects', '512X448', '736X640', '1280X992'], ['10', '0.013', '0.027', '0.073'], ['100', '0.015', '0.03', '0.08'], ['1000', '0.031', '0.066', '0.163'], ['10000', '0.395', '0.68', '1.365']], [['No of Objects', '512X448', '736X640', '1280X992'], ['10', '0.014', '0.028', '0.074'], ['100', '0.018', '0.035', '0.091'], ['1000', '0.037', '0.077', '0.188'], ['10000', '0.895', '1.756', '4.073']], [['No of Objects', '512X448', '736X640', '1280X992'], ['10', '0.014', '0.028', '0.074'], ['100', '0.016', '0.034', '0.091'], ['1000', '0.055', '0.106', '0.244'], ['10000', '4.208', '7.792', '14.534']], [['No of Objects', '512X448', '736X640', '1280X992'], ['10', '0.013', '0.028', '0.075'], ['100', '0.019', '0.039', '0.101'], ['1000', '0.168', '0.331', '0.771'], ['10000', '12.112', '25.233', '61.661']], [['No of Objects', '512X448', '736X640', '1280X992'], ['10', '0.014', '0.028', '0.076'], ['100', '0.018', '0.036', '0.095'], ['1000', '0.113', '0.227', '0.54'], ['10000', '2.666', '5.606', '13.896']]]\n",
            "20\n"
          ]
        }
      ]
    },
    {
      "cell_type": "code",
      "source": [
        "import csv\n",
        "k=0\n",
        "for j in range(1,22):\n",
        "  if j!=18:\n",
        "    with open(str(j)+'.csv', mode='w+', newline='') as file:\n",
        "      writer = csv.writer(file)\n",
        "      for row in table_final_data[k]:\n",
        "          writer.writerow(row)\n",
        "      k+=1"
      ],
      "metadata": {
        "id": "cmMvHVaa_kDi"
      },
      "execution_count": 47,
      "outputs": []
    },
    {
      "cell_type": "code",
      "source": [
        "ls"
      ],
      "metadata": {
        "colab": {
          "base_uri": "https://localhost:8080/"
        },
        "id": "FT4n0562BEJY",
        "outputId": "540e6287-c770-46ac-d0ad-a11a42b49825"
      },
      "execution_count": 29,
      "outputs": [
        {
          "output_type": "stream",
          "name": "stdout",
          "text": [
            " 1.csv  'output (1).txt'  'output (3).txt'   \u001b[0m\u001b[01;34msample_data\u001b[0m/\n",
            " 2.csv  'output (2).txt'   output.txt\n"
          ]
        }
      ]
    }
  ]
}